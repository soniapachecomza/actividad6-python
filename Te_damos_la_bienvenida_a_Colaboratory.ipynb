{
  "cells": [
    {
      "cell_type": "markdown",
      "metadata": {
        "id": "view-in-github",
        "colab_type": "text"
      },
      "source": [
        "<a href=\"https://colab.research.google.com/github/soniapachecomza/actividad6-python/blob/main/Te_damos_la_bienvenida_a_Colaboratory.ipynb\" target=\"_parent\"><img src=\"https://colab.research.google.com/assets/colab-badge.svg\" alt=\"Open In Colab\"/></a>"
      ]
    },
    {
      "cell_type": "markdown",
      "source": [
        "#Actividad 6"
      ],
      "metadata": {
        "id": "ft7q4rRnjCsS"
      }
    },
    {
      "cell_type": "markdown",
      "source": [
        "Crea una clase llamada Cuenta que tendrá los siguientes atributos: titular (que es una persona) y cantidad (puede tener decimales). El titular será obligatorio y la cantidad es opcional. Construye los siguientes métodos para la clase: \n",
        "\n",
        "\n",
        "*   Un constructor.\n",
        "*   mostrar(): Muestra los datos de la cuenta.\n",
        "*   ingresar(cantidad): se ingresa una cantidad a la cuenta, si la cantidad introducida es negativa, no se hará nada. \n",
        "*   retirar(cantidad): se retira una cantidad a la cuenta. La cuenta puede estar en números rojos\n"
      ],
      "metadata": {
        "id": "jWzTqUDajKF3"
      }
    },
    {
      "cell_type": "code",
      "source": [
        "class Cuenta:\n",
        "  def __init__(self, nombre, apellido, cantidad=0):\n",
        "   self.nombre=nombre\n",
        "   self.apellido=apellido\n",
        "   self.cantidad=cantidad\n",
        "\n",
        "  def mostrar(self):\n",
        "    print(\"Nombre del titular:\",self.nombre, self.apellido, \"tiene $\", self.cantidad,\"en su cuenta\")\n",
        "\n",
        "  def ingresar(self, cantidad):\n",
        "      self.cantidad = self.cantidad + cantidad\n",
        "\n",
        "  def retirar(self, cantidad):\n",
        "   if (cantidad > 0):\n",
        "      self.cantidad = self.cantidad - cantidad\n",
        "      print(\"Usted retiró $\",cantidad, \"de su cuenta. Su saldo es de $\", self.cantidad, \"pesos\")\n",
        "\n",
        "\n",
        "\n",
        "cuenta=Cuenta(\"Maximo\", \"López\", 4000)\n",
        "cuenta.ingresar(3000)\n",
        "cuenta.mostrar()\n",
        "cuenta.retirar(700)\n"
      ],
      "metadata": {
        "id": "kF_zVjPVj5vz",
        "outputId": "c1a9eeb7-53b2-44fe-9e8f-693b88afaa29",
        "colab": {
          "base_uri": "https://localhost:8080/"
        }
      },
      "execution_count": 5,
      "outputs": [
        {
          "output_type": "stream",
          "name": "stdout",
          "text": [
            "Nombre del titular: Maximo López tiene $ 7000 en su cuenta\n",
            "Usted retiró $ 700 de su cuenta. Su saldo es de $ 6300 pesos\n"
          ]
        }
      ]
    }
  ],
  "metadata": {
    "colab": {
      "collapsed_sections": [],
      "name": "Te damos la bienvenida a Colaboratory",
      "provenance": [],
      "include_colab_link": true
    },
    "kernelspec": {
      "display_name": "Python 3",
      "name": "python3"
    }
  },
  "nbformat": 4,
  "nbformat_minor": 0
}